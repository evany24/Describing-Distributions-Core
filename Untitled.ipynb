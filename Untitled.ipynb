{
 "cells": [
  {
   "cell_type": "markdown",
   "id": "478bbc47",
   "metadata": {},
   "source": [
    "# Describing Distributions (Core)\n",
    "\n",
    "## In this assignment, you will be analyzing & visualizing several features in the Medical Dataset.\n",
    "\n",
    "### The features to analyze: \n",
    "- VitD_levels\n",
    "- Doc_visits\n",
    "- TotalCharge\n",
    "### For each feature listed:\n",
    "\n",
    "- Plot a histogram with a kde (kernel density estimate)\n",
    "- Add a line for the mean (red)\n",
    "- Add a line for the median (green)\n",
    "- Add a line for for +1 std from the mean (black)\n",
    "- Add a line for the - 1 std from the mean (black)\n",
    "- Highlight the range between +1 and =1 std (yellow)\n",
    "### Answer the following questions:\n",
    "- Is it Discrete or Continuous?\n",
    "- Does it have a skew? If so, which direction (+/-)\n",
    "  - What type of kurtosis does it display? (Mesokurtic, Leptokurtic, Platykurtic)"
   ]
  },
  {
   "cell_type": "markdown",
   "id": "a7fb81e3",
   "metadata": {},
   "source": [
    "## Imports"
   ]
  },
  {
   "cell_type": "code",
   "execution_count": 2,
   "id": "1cce5d50",
   "metadata": {},
   "outputs": [],
   "source": [
    "import pandas as pd\n",
    "import numpy as np\n",
    "import matplotlib.pyplot as plt\n",
    "import matplotlib as mpl\n",
    "import seaborn as sns\n",
    "from scipy import stats\n",
    "\n",
    "import warnings\n",
    "warnings.filterwarnings('ignore')"
   ]
  },
  {
   "cell_type": "markdown",
   "id": "595aef32",
   "metadata": {},
   "source": [
    "## Load Data"
   ]
  },
  {
   "cell_type": "code",
   "execution_count": null,
   "id": "b4fc9d6b",
   "metadata": {},
   "outputs": [],
   "source": [
    "df = pd.read_csv('Data/data.csv')\n",
    "df.head()"
   ]
  }
 ],
 "metadata": {
  "kernelspec": {
   "display_name": "Python (dojo-env)",
   "language": "python",
   "name": "dojo-env"
  },
  "language_info": {
   "codemirror_mode": {
    "name": "ipython",
    "version": 3
   },
   "file_extension": ".py",
   "mimetype": "text/x-python",
   "name": "python",
   "nbconvert_exporter": "python",
   "pygments_lexer": "ipython3",
   "version": "3.9.15"
  },
  "toc": {
   "base_numbering": 1,
   "nav_menu": {},
   "number_sections": true,
   "sideBar": true,
   "skip_h1_title": false,
   "title_cell": "Table of Contents",
   "title_sidebar": "Contents",
   "toc_cell": false,
   "toc_position": {},
   "toc_section_display": true,
   "toc_window_display": false
  }
 },
 "nbformat": 4,
 "nbformat_minor": 5
}
